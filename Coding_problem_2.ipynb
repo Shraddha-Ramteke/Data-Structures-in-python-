{
  "nbformat": 4,
  "nbformat_minor": 0,
  "metadata": {
    "colab": {
      "name": "Coding problem 2.ipynb",
      "provenance": [],
      "authorship_tag": "ABX9TyMYSxnCZUAEPFxtrkSqGhX+",
      "include_colab_link": true
    },
    "kernelspec": {
      "name": "python3",
      "display_name": "Python 3"
    },
    "language_info": {
      "name": "python"
    }
  },
  "cells": [
    {
      "cell_type": "markdown",
      "metadata": {
        "id": "view-in-github",
        "colab_type": "text"
      },
      "source": [
        "<a href=\"https://colab.research.google.com/github/Shraddha-Ramteke/Data-Structures-in-python-/blob/main/Coding_problem_2.ipynb\" target=\"_parent\"><img src=\"https://colab.research.google.com/assets/colab-badge.svg\" alt=\"Open In Colab\"/></a>"
      ]
    },
    {
      "cell_type": "markdown",
      "source": [
        "#**Minimum Edit Distance**"
      ],
      "metadata": {
        "id": "Fd5JCddsUj3k"
      }
    },
    {
      "cell_type": "markdown",
      "source": [
        "# The following interview was asked during a coding interview at Google:\n",
        "\n",
        "Given two strings A and B, find the minimum number of steps required to convert A to B. (each operation is counted as 1 step.) You have the following 3 operations permitted on a word:\n",
        "\n",
        "1. Insert a character\n",
        "2. Delete a character\n",
        "3. Replace a character\n",
        "Here's a visual representation (source: iDeserve)\n",
        "\n"
      ],
      "metadata": {
        "id": "tZqt7QMRUpE0"
      }
    },
    {
      "cell_type": "markdown",
      "source": [
        "# Brute force (recursion - exponential):"
      ],
      "metadata": {
        "id": "o60h8y9aUxHQ"
      }
    },
    {
      "cell_type": "code",
      "execution_count": 1,
      "metadata": {
        "id": "PrnxJ7l8UZkj"
      },
      "outputs": [],
      "source": [
        "def min_edit_distance(str1, str2, i1=0, i2=0):\n",
        "    if i1 == len(str1):\n",
        "        return len(str2) - i2\n",
        "    if i2 == len(str2):\n",
        "        return len(str1) - i1\n",
        "    if str1[i1] == str2[i2]:\n",
        "        return min_edit_distance(str1, str2, i1+1, i2+1)\n",
        "    return 1 + min(min_edit_distance(str1, str2, i1, i2+1), # Insert at beginning of str1\n",
        "                   min_edit_distance(str1, str2, i1+1, i2), # Remove from beginning of str1\n",
        "                   min_edit_distance(str1, str2, i1+1, i2+1)) # Swap first character of str1"
      ]
    },
    {
      "cell_type": "code",
      "source": [
        "\n",
        "min_edit_distance('wednesday', 'thursday')"
      ],
      "metadata": {
        "colab": {
          "base_uri": "https://localhost:8080/"
        },
        "id": "jLlP_QNIU7vV",
        "outputId": "7adab2fc-6d26-406b-9cc3-c69065abd853"
      },
      "execution_count": 2,
      "outputs": [
        {
          "output_type": "execute_result",
          "data": {
            "text/plain": [
              "5"
            ]
          },
          "metadata": {},
          "execution_count": 2
        }
      ]
    },
    {
      "cell_type": "code",
      "source": [
        "min_edit_distance('intention', 'execution')"
      ],
      "metadata": {
        "colab": {
          "base_uri": "https://localhost:8080/"
        },
        "id": "CqD_ubHQVBn3",
        "outputId": "ce3afaad-368e-4d2d-93ab-385d8efb6655"
      },
      "execution_count": 3,
      "outputs": [
        {
          "output_type": "execute_result",
          "data": {
            "text/plain": [
              "5"
            ]
          },
          "metadata": {},
          "execution_count": 3
        }
      ]
    },
    {
      "cell_type": "markdown",
      "source": [
        "# Improved (memoization - \n",
        "O\n",
        "(\n",
        "n\n",
        "1\n",
        "∗\n",
        "n\n",
        "2\n",
        ")\n",
        "):"
      ],
      "metadata": {
        "id": "zGXCxE_HVG5E"
      }
    },
    {
      "cell_type": "code",
      "source": [
        "def min_edit_distance2(str1, str2):\n",
        "    memo = {}\n",
        "    def recurse(i1, i2):\n",
        "        key = (i1, i2)\n",
        "        if key in memo:\n",
        "            return memo[key]\n",
        "        elif i1 == len(str1):\n",
        "            memo[key] = len(str2) - i2\n",
        "        elif i2 == len(str2):\n",
        "            memo[key] = len(str1) - i1\n",
        "        elif str1[i1] == str2[i2]:\n",
        "            memo[key] = recurse(i1+1, i2+1)\n",
        "        else:\n",
        "            memo[key] = 1 + min(recurse(i1, i2+1), \n",
        "                                recurse(i1+1, i2), \n",
        "                                recurse(i1+1, i2+1))\n",
        "        return memo[key]\n",
        "    return recurse(0, 0)\n",
        "min_edit_distance2('intention', 'execution')"
      ],
      "metadata": {
        "colab": {
          "base_uri": "https://localhost:8080/"
        },
        "id": "Fbfy7KFkVKTG",
        "outputId": "bbeca247-73d1-4ee7-fca9-2aa655fb2192"
      },
      "execution_count": 4,
      "outputs": [
        {
          "output_type": "execute_result",
          "data": {
            "text/plain": [
              "5"
            ]
          },
          "metadata": {},
          "execution_count": 4
        }
      ]
    },
    {
      "cell_type": "markdown",
      "source": [
        "# Best (Dynamic programming - \n",
        "O\n",
        "(\n",
        "n\n",
        "1\n",
        "∗\n",
        "n\n",
        "2\n",
        ")\n",
        ")"
      ],
      "metadata": {
        "id": "Uc76kwuHVXld"
      }
    },
    {
      "cell_type": "code",
      "source": [
        "def med_dp(str1, str2):\n",
        "    n1, n2 = len(str1), len(str2)\n",
        "    table = [[0 for _ in range(n2+1)] for _ in range(n1+1)]\n",
        "    for i in range(n2+1):\n",
        "        for j in range(n1+1):\n",
        "            # If first string is empty, only option is to\n",
        "            # insert all characters of second string\n",
        "            if i == 0:\n",
        "                table[i][j] = j    # Min. operations = j\n",
        " \n",
        "            # If second string is empty, only option is to\n",
        "            # remove all characters of second string\n",
        "            elif j == 0:\n",
        "                table[i][j] = i    # Min. operations = i\n",
        " \n",
        "            # If last characters are same, ignore last char\n",
        "            # and recur for remaining string\n",
        "            elif str1[i-1] == str2[j-1]:\n",
        "                table[i][j] = table[i-1][j-1]\n",
        " \n",
        "            # If last character are different, consider all\n",
        "            # possibilities and find minimum\n",
        "            else:\n",
        "                table[i][j] = 1 + min(table[i][j-1],        # Insert\n",
        "                                      table[i-1][j],        # Remove\n",
        "                                      table[i-1][j-1])      # Replace\n",
        "    return table[n1][n2]\n",
        "med_dp('intention', 'execution')"
      ],
      "metadata": {
        "colab": {
          "base_uri": "https://localhost:8080/"
        },
        "id": "QwcYK0p6VVPL",
        "outputId": "78c3f805-8b4f-406b-cfee-e60fbe2d73fa"
      },
      "execution_count": 5,
      "outputs": [
        {
          "output_type": "execute_result",
          "data": {
            "text/plain": [
              "5"
            ]
          },
          "metadata": {},
          "execution_count": 5
        }
      ]
    }
  ]
}