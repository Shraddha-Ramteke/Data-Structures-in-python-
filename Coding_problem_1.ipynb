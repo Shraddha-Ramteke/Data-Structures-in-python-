{
  "nbformat": 4,
  "nbformat_minor": 0,
  "metadata": {
    "colab": {
      "name": " Coding problem 1.ipynb",
      "provenance": [],
      "authorship_tag": "ABX9TyOyHpbJtB9LR33NSp5LPJ6K",
      "include_colab_link": true
    },
    "kernelspec": {
      "name": "python3",
      "display_name": "Python 3"
    },
    "language_info": {
      "name": "python"
    }
  },
  "cells": [
    {
      "cell_type": "markdown",
      "metadata": {
        "id": "view-in-github",
        "colab_type": "text"
      },
      "source": [
        "<a href=\"https://colab.research.google.com/github/Shraddha-Ramteke/Data-Structures-in-python-/blob/main/Coding_problem_1.ipynb\" target=\"_parent\"><img src=\"https://colab.research.google.com/assets/colab-badge.svg\" alt=\"Open In Colab\"/></a>"
      ]
    },
    {
      "cell_type": "markdown",
      "source": [
        "# Subarray with Given Sum"
      ],
      "metadata": {
        "id": "FbNwT5gtQ3OH"
      }
    },
    {
      "cell_type": "markdown",
      "source": [
        "The following question was asked during a coding interview for Amazon:\n",
        "\n",
        "You are given an array of numbers (non-negative). Find a continuous subarray of the list which adds up to a given sum."
      ],
      "metadata": {
        "id": "nFOotjidRAUL"
      }
    },
    {
      "cell_type": "markdown",
      "source": [
        "# Solution\n",
        "Test case:"
      ],
      "metadata": {
        "id": "pm5XhG3WRK3-"
      }
    },
    {
      "cell_type": "code",
      "execution_count": 1,
      "metadata": {
        "id": "EQRN5026QP8G"
      },
      "outputs": [],
      "source": [
        "arr1 = [1, 7, 4, 2, 1, 3, 11, 5]\n",
        "target1 = 10"
      ]
    },
    {
      "cell_type": "markdown",
      "source": [
        "Brute force \n",
        "O\n",
        "(\n",
        "n\n",
        "3\n",
        ")\n",
        ":"
      ],
      "metadata": {
        "id": "q5egC7jfRf81"
      }
    },
    {
      "cell_type": "code",
      "source": [
        "def subarray_sum1(arr, target):\n",
        "    n = len(arr)\n",
        "    for i in range(n):\n",
        "        for j in range(i, n+1):\n",
        "            if sum(arr[i:j]) == target:\n",
        "                return i, j\n",
        "    return None, None\n",
        "i, j = subarray_sum1(arr1, target1)\n",
        "i, j, arr1[i:j]"
      ],
      "metadata": {
        "colab": {
          "base_uri": "https://localhost:8080/"
        },
        "id": "Tm0L-PcsRa_N",
        "outputId": "42154b6d-1def-4f87-c57b-16a5e844e3e5"
      },
      "execution_count": 2,
      "outputs": [
        {
          "output_type": "execute_result",
          "data": {
            "text/plain": [
              "(2, 6, [4, 2, 1, 3])"
            ]
          },
          "metadata": {},
          "execution_count": 2
        }
      ]
    },
    {
      "cell_type": "markdown",
      "source": [
        "Better brute force \n",
        "O\n",
        "(\n",
        "n\n",
        "2\n",
        ")\n",
        ":"
      ],
      "metadata": {
        "id": "eoQmBY0GRr3g"
      }
    },
    {
      "cell_type": "code",
      "source": [
        "def subarray_sum2(arr, target):\n",
        "    n = len(arr)\n",
        "    for i in range(n):\n",
        "        s = 0\n",
        "        for j in range(i, n+1):\n",
        "            if s == target:\n",
        "                return i,j\n",
        "            s += arr[j]\n",
        "    return None, None\n",
        "\n",
        "    i, j = subarray_sum2(arr1, target1)\n",
        "i, j, arr1[i:j]"
      ],
      "metadata": {
        "colab": {
          "base_uri": "https://localhost:8080/"
        },
        "id": "0VOFP5aKTjCQ",
        "outputId": "b0f59e49-3359-465a-84fc-fd937eafba34"
      },
      "execution_count": 12,
      "outputs": [
        {
          "output_type": "execute_result",
          "data": {
            "text/plain": [
              "(2, 6, [4, 2, 1, 3])"
            ]
          },
          "metadata": {},
          "execution_count": 12
        }
      ]
    },
    {
      "cell_type": "markdown",
      "source": [
        "Greedy algorithm \n",
        "O\n",
        "(\n",
        "n\n",
        ")\n",
        ":"
      ],
      "metadata": {
        "id": "WdybYypUR0gd"
      }
    },
    {
      "cell_type": "code",
      "source": [
        "def subarray_sum3(arr, target):\n",
        "    n = len(arr)\n",
        "    i, j, s = 0, 0, 0\n",
        "    while i < n and j <= n:\n",
        "        if s == target:\n",
        "            return i, j\n",
        "        elif s < target:\n",
        "            s += arr[j]\n",
        "            j += 1\n",
        "        elif s > target:\n",
        "            s -= arr[i]\n",
        "            i += 1\n",
        "    return None, None\n",
        "        \n",
        "i, j = subarray_sum3(arr1, target1)\n",
        "i, j, arr1[i:j]"
      ],
      "metadata": {
        "colab": {
          "base_uri": "https://localhost:8080/"
        },
        "id": "NcyLtCqnTt3p",
        "outputId": "cc8f416c-3a55-4bd7-db28-0deef3ed174a"
      },
      "execution_count": 13,
      "outputs": [
        {
          "output_type": "execute_result",
          "data": {
            "text/plain": [
              "(2, 6, [4, 2, 1, 3])"
            ]
          },
          "metadata": {},
          "execution_count": 13
        }
      ]
    }
  ]
}