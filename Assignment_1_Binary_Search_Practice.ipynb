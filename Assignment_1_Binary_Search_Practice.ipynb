{
  "nbformat": 4,
  "nbformat_minor": 0,
  "metadata": {
    "colab": {
      "name": "Assignment 1 - Binary Search Practice.ipynb",
      "provenance": [],
      "authorship_tag": "ABX9TyOphQvwqNfK/2HZZihrVqOv",
      "include_colab_link": true
    },
    "kernelspec": {
      "name": "python3",
      "display_name": "Python 3"
    },
    "language_info": {
      "name": "python"
    }
  },
  "cells": [
    {
      "cell_type": "markdown",
      "metadata": {
        "id": "view-in-github",
        "colab_type": "text"
      },
      "source": [
        "<a href=\"https://colab.research.google.com/github/Shraddha-Ramteke/Data-Structures-in-python-/blob/main/Assignment_1_Binary_Search_Practice.ipynb\" target=\"_parent\"><img src=\"https://colab.research.google.com/assets/colab-badge.svg\" alt=\"Open In Colab\"/></a>"
      ]
    },
    {
      "cell_type": "markdown",
      "source": [
        "# **Assignment 1 - Binary Search Practice**"
      ],
      "metadata": {
        "id": "qjyZ1cEbALpB"
      }
    },
    {
      "cell_type": "markdown",
      "source": [
        "# Problem - Rotated Lists\n",
        "You are given list of numbers, obtained by rotating a sorted list an unknown number of times. Write a function to determine the minimum number of times the original sorted list was rotated to obtain the given list. Your function should have the worst-case complexity of O(log N), where N is the length of the list. You can assume that all the numbers in the list are unique.\n",
        "\n",
        "Example: The list [5, 6, 9, 0, 2, 3, 4] was obtained by rotating the sorted list [0, 2, 3, 4, 5, 6, 9] 3 times.\n",
        "\n",
        "We define \"rotating a list\" as removing the last element of the list and adding it before the first element. E.g. rotating the list [3, 2, 4, 1] produces [1, 3, 2, 4].\n",
        "\n",
        "\"Sorted list\" refers to a list where the elements are arranged in the increasing order e.g. [1, 3, 5, 7]."
      ],
      "metadata": {
        "id": "QbIa-mEFAPFM"
      }
    },
    {
      "cell_type": "markdown",
      "source": [
        "# Solution\n",
        "1. State the problem clearly. Identify the input & output formats.\n",
        "While this problem is stated clearly enough, it's always useful to try and express in your own words, in a way that makes it most clear for you. It's perfectly OK if your description overlaps with the original problem statement to a large extent.\n",
        "\n",
        "\n",
        "Q: Express the problem in your own words below (to edit this cell, double click on it).\n",
        "\n",
        "Problem\n",
        "\n",
        "# number of minimum time it was rotated in **log N** time\n",
        "\n",
        "\n",
        "Q: The function you write will take one input called nums. What does it represent? Give an example.\n",
        "\n",
        "Input\n",
        "\n",
        "# 1. nums:a sorted rotated list . eg. (7, 8, 6, 5, 4)\n",
        "\n",
        "Q: The function you write will return a single output called rotations. What does it represent? Give an example.\n",
        "\n",
        "Output\n",
        "\n",
        "# 3. rotations:number of time sorted list was rotated e.g (6) "
      ],
      "metadata": {
        "id": "wyLgOoTgAo4O"
      }
    },
    {
      "cell_type": "markdown",
      "source": [
        "# 2. Come up with some example inputs & outputs. Try to cover all edge cases.\n",
        "Our function should be able to handle any set of valid inputs we pass into it. Here's a list of some possible variations we might encounter:\n",
        "\n",
        "- A list of size 10 rotated 3 times.\n",
        "- A list of size 8 rotated 5 times.\n",
        "- A list that wasn't rotated at all.\n",
        "- A list that was rotated just once.\n",
        "- A list that was rotated n-1 times, where n is the size of the list.\n",
        "- A list that was rotated n times (do you get back the original list here?)\n",
        "- An empty list.\n",
        "- A list containing just one element.\n",
        "- (can you think of any more?)\n",
        "We'll express our test cases as dictionaries, to test them easily. Each dictionary will contain 2 keys: input (a dictionary itself containing one key for each argument to the function and output (the expected result from the function). Here's an example."
      ],
      "metadata": {
        "id": "FdTUfv_6CQVK"
      }
    },
    {
      "cell_type": "code",
      "source": [
        "test = {\n",
        "    'input': {\n",
        "        'nums': [19, 25, 29, 3, 5, 6, 7, 9, 11, 14]\n",
        "    },\n",
        "    'output': 3\n",
        "}\n",
        "nums0 = test['input']['nums']\n",
        "output0 = test['input']['nums']\n",
        "result0 = count_rotations(nums0)\n",
        "\n",
        "result0, result0 == output0\n",
        "test"
      ],
      "metadata": {
        "colab": {
          "base_uri": "https://localhost:8080/"
        },
        "id": "HQoVSTAlCmNi",
        "outputId": "4aacc149-18c6-4490-e56c-4091c23f0501"
      },
      "execution_count": 3,
      "outputs": [
        {
          "output_type": "execute_result",
          "data": {
            "text/plain": [
              "{'input': {'nums': [19, 25, 29, 3, 5, 6, 7, 9, 11, 14]}, 'output': 3}"
            ]
          },
          "metadata": {},
          "execution_count": 3
        }
      ]
    },
    {
      "cell_type": "code",
      "source": [
        "# Q: Create proper test cases for each of the scenarios listed above.\n",
        "\n",
        "test0 = test\n",
        "# A list of size 8 rotated 5 times.\n",
        "test1 = {\n",
        "    'input': {\n",
        "        'nums':[1, 2, 3, 4, 5, 6, 7, 8]\n",
        "    },\n",
        "    'output': 5\n",
        "}"
      ],
      "metadata": {
        "id": "ajFMXBV8C-d6"
      },
      "execution_count": 15,
      "outputs": []
    },
    {
      "cell_type": "code",
      "source": [
        "# A list that wasn't rotated at all.\n",
        "test2 = {\n",
        "    'input': {\n",
        "        'nums':[4, 5, 6, 7, 8, 9, 1]\n",
        "    },\n",
        "    'output': 0\n",
        "}"
      ],
      "metadata": {
        "id": "Qg3rGrqjERIE"
      },
      "execution_count": 16,
      "outputs": []
    },
    {
      "cell_type": "code",
      "source": [
        "#A list that was rotated just once. A list that was rotated n-1 times, where n is the size of the list. A list that was rotated n times (do you get back the original list here?) An empty list. A list containing just one element.\n",
        "\n",
        "# A list that was rotated just once.\n",
        "test3 = {\n",
        "    'input': {\n",
        "        'nums':[2, 5, 6, 8]\n",
        "    },\n",
        "    'output': 1\n",
        "}"
      ],
      "metadata": {
        "id": "BMYR6TZiEgQ8"
      },
      "execution_count": 17,
      "outputs": []
    },
    {
      "cell_type": "code",
      "source": [
        "# A list that was rotated n-1 times, where n is the size of the list.\n",
        "test4 = {\n",
        "    'input': {\n",
        "        'nums':[2, 3, 4, 5, 6, 1]\n",
        "    },\n",
        "    'output': 5\n",
        "}"
      ],
      "metadata": {
        "id": "wWZb8gC4EtRK"
      },
      "execution_count": null,
      "outputs": []
    },
    {
      "cell_type": "code",
      "source": [
        "# A list that was rotated n times, where n is the size of the list\n",
        "test5 = {\n",
        "    'input': {\n",
        "        'nums':[1, 2, 3, 4, 5, 6, 7]\n",
        "    },\n",
        "    'output': 0\n",
        "}"
      ],
      "metadata": {
        "id": "uUKfUvGJE6-r"
      },
      "execution_count": 18,
      "outputs": []
    },
    {
      "cell_type": "code",
      "source": [
        "# An empty list.\n",
        "test6 = {\n",
        "    'input': {\n",
        "        'nums': []\n",
        "    },\n",
        "    'output': -1\n",
        "}"
      ],
      "metadata": {
        "id": "bL-aTXkxFNK_"
      },
      "execution_count": 19,
      "outputs": []
    },
    {
      "cell_type": "code",
      "source": [
        "# A list containing just one element.\n",
        "test7 = {\n",
        "    'input': {\n",
        "        'nums':[1]\n",
        "    },\n",
        "    'output': 0\n",
        "}\n"
      ],
      "metadata": {
        "id": "6o4ZxDRQFXbR"
      },
      "execution_count": 25,
      "outputs": []
    },
    {
      "cell_type": "markdown",
      "source": [
        "# 4. Implement the solution and test it using example inputs. Fix bugs, if any."
      ],
      "metadata": {
        "id": "3GZPH-wZFwOv"
      }
    },
    {
      "cell_type": "code",
      "source": [
        "# Q: Implement the solution described in step 3.\n",
        "\n",
        "def count_rotations_linear(nums):\n",
        "    position = 0                 # What is the intial value of position?\n",
        "    if len (nums) == 0: return -1\n",
        "    while position < len(nums):                     # When should the loop be terminated?\n",
        "        \n",
        "        # Success criteria: check whether the number at the current position is smaller than the one before it\n",
        "        if position > 0 and nums[position] <nums[position -1]:   # How to perform the check?\n",
        "            return position\n",
        "        \n",
        "        # Move to the next position\n",
        "        position += 1\n",
        "    \n",
        "    return 0                     # What if none of the positions passed the check \n",
        "test"
      ],
      "metadata": {
        "colab": {
          "base_uri": "https://localhost:8080/"
        },
        "id": "2TgDZ7mcFzBN",
        "outputId": "5601901e-ea9f-4417-d761-f3a8b64c4dfa"
      },
      "execution_count": 23,
      "outputs": [
        {
          "output_type": "execute_result",
          "data": {
            "text/plain": [
              "{'input': {'nums': [19, 25, 29, 3, 5, 6, 7, 9, 11, 14]}, 'output': 3}"
            ]
          },
          "metadata": {},
          "execution_count": 23
        }
      ]
    },
    {
      "cell_type": "markdown",
      "source": [
        "# 8. Implement the solution and test it using example inputs. Fix bugs, if any."
      ],
      "metadata": {
        "id": "S1D0uMzlHB1B"
      }
    },
    {
      "cell_type": "code",
      "source": [
        "# Q: Implement the binary search solution described in step 7.\n",
        "\n",
        "# If you are stuck, you can ask for help on the community forum: https://jovian.ai/forum/c/data-structures-and-algorithms-in-python/assignment-1/87 . You can get help with errors or ask for hints, but please don't ask for OR share the full working answer code on the forum.\n",
        "\n",
        "def count_rotations_binary(nums):\n",
        "    lo = 0\n",
        "    hi = len (nums)-1\n",
        "    if len (nums) == 0: return -1 \n",
        "    while lo<=hi:\n",
        "        mid = (lo+hi)//2\n",
        "        mid_number = nums[mid]\n",
        "        \n",
        "        # Uncomment the next line for logging the values and fixing errors.\n",
        "        # print(\"lo:\", lo, \", hi:\", hi, \", mid:\", mid, \", mid_number:\", mid_number)\n",
        "        \n",
        "        if mid > 0 and nums[mid]<nums[mid]-1:\n",
        "            # The middle position is the answer\n",
        "            return mid\n",
        "        \n",
        "        elif nums[mid]<nums[hi]:\n",
        "            # Answer lies in the left half\n",
        "            hi = mid - 1  \n",
        "        \n",
        "        else:\n",
        "            # Answer lies in the right half\n",
        "            lo = mid + 1\n",
        "    \n",
        "    return 0\n",
        "test    "
      ],
      "metadata": {
        "colab": {
          "base_uri": "https://localhost:8080/"
        },
        "id": "xvCCBarVHDmH",
        "outputId": "d1f3382f-2178-4078-d8e6-fd6a3b5a2ed0"
      },
      "execution_count": 26,
      "outputs": [
        {
          "output_type": "execute_result",
          "data": {
            "text/plain": [
              "{'input': {'nums': [19, 25, 29, 3, 5, 6, 7, 9, 11, 14]}, 'output': 3}"
            ]
          },
          "metadata": {},
          "execution_count": 26
        }
      ]
    }
  ]
}