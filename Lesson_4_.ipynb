{
  "nbformat": 4,
  "nbformat_minor": 0,
  "metadata": {
    "colab": {
      "name": "Lesson 4 .ipynb",
      "provenance": [],
      "authorship_tag": "ABX9TyNIydzL/3oz+/vWHpFPcO06",
      "include_colab_link": true
    },
    "kernelspec": {
      "name": "python3",
      "display_name": "Python 3"
    },
    "language_info": {
      "name": "python"
    }
  },
  "cells": [
    {
      "cell_type": "markdown",
      "metadata": {
        "id": "view-in-github",
        "colab_type": "text"
      },
      "source": [
        "<a href=\"https://colab.research.google.com/github/Shraddha-Ramteke/Data-Structures-in-python-/blob/main/Lesson_4_.ipynb\" target=\"_parent\"><img src=\"https://colab.research.google.com/assets/colab-badge.svg\" alt=\"Open In Colab\"/></a>"
      ]
    },
    {
      "cell_type": "markdown",
      "source": [
        "#**Lesson 4 - Recursion and Dynamic Programming**"
      ],
      "metadata": {
        "id": "hrvE0xzJHb51"
      }
    },
    {
      "cell_type": "markdown",
      "source": [
        "# Longest Common Subsequence\n",
        "QUESTION 1: Write a function to find the length of the longest common subsequence between two sequences. E.g. Given the strings \"serendipitous\" and \"precipitation\", the longest common subsequence is \"reipito\" and its length is 7.\n",
        "\n",
        "A \"sequence\" is a group of items with a deterministic ordering. Lists, tuples and ranges are some common sequence types in Python.\n",
        "\n",
        "A \"subsequence\" is a sequence obtained by deleting zero or more elements from another sequence. For example, \"edpt\" is a subsequence of \"serendipitous\"."
      ],
      "metadata": {
        "id": "3swV4xH_Hk4b"
      }
    },
    {
      "cell_type": "code",
      "execution_count": 1,
      "metadata": {
        "id": "bmzzI61JG-n0"
      },
      "outputs": [],
      "source": [
        "# Longest common subsequence test cases:\n",
        "T0 = {\n",
        "    'input': {\n",
        "        'seq1': 'serendipitous',\n",
        "        'seq2': 'precipitation'\n",
        "    },\n",
        "    'output': 7\n",
        "}\n",
        "\n",
        "T1 = {\n",
        "    'input': {\n",
        "        'seq1': [1, 3, 5, 6, 7, 2, 5, 2, 3],\n",
        "        'seq2': [6, 2, 4, 7, 1, 5, 6, 2, 3]\n",
        "    },\n",
        "    'output': 5\n",
        "}\n",
        "\n",
        "T2 = {\n",
        "    'input': {\n",
        "        'seq1': 'longest',\n",
        "        'seq2': 'stone'\n",
        "    },\n",
        "    'output': 3\n",
        "}\n",
        "\n",
        "T3 = {\n",
        "    'input': {\n",
        "        'seq1': 'asdfwevad',\n",
        "        'seq2': 'opkpoiklklj'\n",
        "    },\n",
        "    'output': 0\n",
        "}\n",
        "\n",
        "T4 = {\n",
        "    'input': {\n",
        "        'seq1': 'dense',\n",
        "        'seq2': 'condensed'\n",
        "    },\n",
        "    'output': 5\n",
        "}\n",
        "\n",
        "T5 = {\n",
        "    'input': {\n",
        "        'seq1': '',\n",
        "        'seq2': 'opkpoiklklj'\n",
        "    },\n",
        "    'output': 0\n",
        "}\n",
        "\n",
        "T6 = {\n",
        "    'input': {\n",
        "        'seq1': '',\n",
        "        'seq2': ''\n",
        "    },\n",
        "    'output': 0\n",
        "}\n",
        "\n",
        "T7 = {\n",
        "    'input': {\n",
        "        'seq1': 'abcdef',\n",
        "        'seq2': 'badcfe'\n",
        "    },\n",
        "    'output': 3\n",
        "}"
      ]
    },
    {
      "cell_type": "markdown",
      "source": [
        "# Recursive Solution\n",
        "1. Create two counters idx1 and idx2 starting at 0. Our recursive function will compute the LCS of seq1[idx1:] and seq2[idx2:]\n",
        "\n",
        "2. If seq1[idx1] and seq2[idx2] are equal, then this character belongs to the LCS of seq1[idx1:] and seq2[idx2:] (why?). Further the length this is LCS is one more than LCS of seq1[idx1+1:] and seq2[idx2+1:]\n",
        "\n",
        "3. If not, then the LCS of seq1[idx1:] and seq2[idx2:] is the longer one among the LCS of seq1[idx1+1:], seq2[idx2:] and the LCS of seq1[idx1:], seq2[idx2+1:]\n",
        "\n",
        "4. If either seq1[idx1:] or seq2[idx2:] is empty, then their LCS is empty."
      ],
      "metadata": {
        "id": "H3WkqnN9H866"
      }
    },
    {
      "cell_type": "markdown",
      "source": [
        "# Complexity Analysis\n",
        "Worst case occurs when each time we have to try 2 subproblems i.e. when the sequences have no common elements."
      ],
      "metadata": {
        "id": "lTbSdgX0IU4z"
      }
    },
    {
      "cell_type": "markdown",
      "source": [
        "# Dynamic programming\n",
        "1. Create a table of size (n1+1) * (n2+1) initialized with 0s, where n1 and n2 are the lengths of the sequences. table[i][j] represents the longest common subsequence of seq1[:i] and seq2[:j]. Here's what the table looks like (source: Kevin Mavani, Medium).\n",
        "\n",
        "2. f seq1[i] and seq2[j] are equal, then table[i+1][j+1] = 1 + table[i][j]\n",
        "\n",
        "3. If seq1[i] and seq2[j] are equal, then table[i+1][j+1] = max(table[i][j+1], table[i+1][j])"
      ],
      "metadata": {
        "id": "CU__pQcHIbm-"
      }
    },
    {
      "cell_type": "markdown",
      "source": [
        "# 0-1 Knapsack Problem\n",
        "Problem statement\n",
        "You’re in charge of selecting a football (soccer) team from a large pool of players. Each player has a cost, and a rating. You have a limited budget. What is the highest total rating of a team that fits within your budget. Assume that there’s no minimum or maximum team size.\n",
        "\n",
        "General problem statemnt:\n",
        "\n",
        "Given n elements, each of which has a weight and a profit, determine the maximum profit that can be obtained by selecting a subset of the elements weighing no more than w.\n",
        "\n"
      ],
      "metadata": {
        "id": "ZyfVoOJMItYs"
      }
    },
    {
      "cell_type": "code",
      "source": [
        "test0 = {\n",
        "    'input': {\n",
        "        'capacity': 165,\n",
        "        'weights': [23, 31, 29, 44, 53, 38, 63, 85, 89, 82],\n",
        "        'profits': [92, 57, 49, 68, 60, 43, 67, 84, 87, 72]\n",
        "    },\n",
        "    'output': 309\n",
        "}\n",
        "\n",
        "test1 = {\n",
        "    'input': {\n",
        "        'capacity': 3,\n",
        "        'weights': [4, 5, 6],\n",
        "        'profits': [1, 2, 3]\n",
        "    },\n",
        "    'output': 0\n",
        "}\n",
        "\n",
        "test2 = {\n",
        "    'input': {\n",
        "        'capacity': 4,\n",
        "        'weights': [4, 5, 1],\n",
        "        'profits': [1, 2, 3]\n",
        "    },\n",
        "    'output': 3\n",
        "}\n",
        "\n",
        "test3 = {\n",
        "    'input': {\n",
        "        'capacity': 170,\n",
        "        'weights': [41, 50, 49, 59, 55, 57, 60],\n",
        "        'profits': [442, 525, 511, 593, 546, 564, 617]\n",
        "    },\n",
        "    'output': 1735\n",
        "}\n",
        "\n",
        "test4 = {\n",
        "    'input': {\n",
        "        'capacity': 15,\n",
        "        'weights': [4, 5, 6],\n",
        "        'profits': [1, 2, 3]\n",
        "    },\n",
        "    'output': 6\n",
        "}\n",
        "\n",
        "test5 = {\n",
        "    'input': {\n",
        "        'capacity': 15,\n",
        "        'weights': [4, 5, 1, 3, 2, 5],\n",
        "        'profits': [2, 3, 1, 5, 4, 7]\n",
        "    },\n",
        "    'output': 19\n",
        "}\n",
        "tests = [test0, test1, test2, test3, test4, test5]"
      ],
      "metadata": {
        "id": "jEhCQjPoI3t2"
      },
      "execution_count": 2,
      "outputs": []
    },
    {
      "cell_type": "markdown",
      "source": [
        "# Recursion\n",
        "\n",
        "1. We'll write a recursive function that computes max_profit(weights[idx:], profits[idx:], capacity), with idx starting from 0.\n",
        "\n",
        "2. If weights[idx] > capacity, the current element is cannot be selected, so the maximum profit is the same as max_profit(weights[idx+1:], profits[idx+1:], capacity).\n",
        "\n",
        "3. Otherwise, there are two possibilities: we either pick weights[idx] or don't. We can recursively compute the maximum\n",
        "\n",
        "A. If we don't pick weights[idx], once again the maximum profit for this case is max_profit(weights[idx+1:], profits[idx+1:], capacity)\n",
        "\n",
        "B. If we pick weights[idx], the maximum profit for this case is profits[idx] + max_profit(weights[idx+1:], profits[idx+1:], capacity - weights[idx]\n",
        "\n",
        "4. If weights[idx:] is empty, the maximum profit for this case is 0."
      ],
      "metadata": {
        "id": "S7u5T5YlJESf"
      }
    },
    {
      "cell_type": "markdown",
      "source": [
        "# Dynamic Programming\n",
        "Create a table of size (n+1) * (capacity+1) consisting of all 0s, where is n is the number of elements. table[i][c] represents the maximum profit that can be obtained using the first i elements if the maximum capacity is c. Here's a visual representation of a filled table (source - geeksforgeeks):\n",
        "\n",
        "\n",
        "1. We'll fill the table row by row and column by column. table[i][c] can be filled using some values in the row above it.\n",
        "\n",
        "2. If weights[i] > c i.e. if the current element can is larger than capacity, then table[i+1][c] is simply equal to table[i][c] (since there's no way we can pick this element).\n",
        "\n",
        "3. If weights[i] <= c then we have two choices: to either pick the current element or not to get the value of table[i+1][c]. We can compare the maximum profit for both these options and pick the better one as the value of table[i][c].\n",
        "\n",
        "A. If we don't pick the element with weight weights[i], then once again the maximum profit is table[i][c]\n",
        "\n",
        "B. If we pick the element with weight weights[i], then the maximum profit is profits[i] + table[i][c-weights[i]], since we have used up some capacity.\n",
        "\n",
        "Verify that the complexity of the dynamic programming solution is \n",
        "O\n",
        "(\n",
        "N\n",
        "∗\n",
        "W\n",
        ")\n",
        "."
      ],
      "metadata": {
        "id": "bANy01sPJUV8"
      }
    },
    {
      "cell_type": "code",
      "source": [
        "def lcq_recursive(seq1, seq2, idx1=0, idx2=0):\n",
        "    # Check if either of the sequences is exhausted\n",
        "    if idx1 == len(seq1) or idx2 == len(seq2):\n",
        "        return 0\n",
        "    \n",
        "    # Check if the current characters are equal\n",
        "    if seq1[idx1] == seq2[idx2]:\n",
        "        return 1 + lcq_recursive(seq1, seq2, idx1+1, idx2+1)\n",
        "    # Skip one element from each sequence\n",
        "    else:\n",
        "        return max(lcq_recursive(seq1, seq2, idx1+1, idx2), \n",
        "                   lcq_recursive(seq1, seq2, idx1, idx2+1))"
      ],
      "metadata": {
        "id": "tKahxqvfJggf"
      },
      "execution_count": 3,
      "outputs": []
    },
    {
      "cell_type": "code",
      "source": [
        "%%time\n",
        "lcq_recursive('seredipitous', 'precipitation')"
      ],
      "metadata": {
        "colab": {
          "base_uri": "https://localhost:8080/"
        },
        "id": "_Q5SnUyfJsq3",
        "outputId": "d2f80180-550c-4de2-a4bf-d7f349c47125"
      },
      "execution_count": 4,
      "outputs": [
        {
          "output_type": "stream",
          "name": "stdout",
          "text": [
            "CPU times: user 243 ms, sys: 0 ns, total: 243 ms\n",
            "Wall time: 246 ms\n"
          ]
        },
        {
          "output_type": "execute_result",
          "data": {
            "text/plain": [
              "7"
            ]
          },
          "metadata": {},
          "execution_count": 4
        }
      ]
    },
    {
      "cell_type": "code",
      "source": [
        "%%time\n",
        "lcq_recursive('Asdfsfafssess', 'oypiououuiuo')"
      ],
      "metadata": {
        "colab": {
          "base_uri": "https://localhost:8080/"
        },
        "id": "1_bqMVx6JyVv",
        "outputId": "43fd7a24-3d80-4993-fb3a-2b821495ec01"
      },
      "execution_count": 5,
      "outputs": [
        {
          "output_type": "stream",
          "name": "stdout",
          "text": [
            "CPU times: user 4.4 s, sys: 0 ns, total: 4.4 s\n",
            "Wall time: 4.41 s\n"
          ]
        },
        {
          "output_type": "execute_result",
          "data": {
            "text/plain": [
              "0"
            ]
          },
          "metadata": {},
          "execution_count": 5
        }
      ]
    },
    {
      "cell_type": "code",
      "source": [
        "def lcq_memoized(seq1, seq2):\n",
        "    memo = {}\n",
        "    \n",
        "    def recurse(idx1, idx2):\n",
        "        key = idx1, idx2\n",
        "        \n",
        "        if key in memo:\n",
        "            return memo[key]\n",
        "        \n",
        "        if idx1 == len(seq1) or idx2 == len(seq2):\n",
        "            memo[key] = 0\n",
        "        elif seq1[idx1] == seq2[idx2]:\n",
        "            memo[key] = 1 + recurse(idx1+1, idx2+1)\n",
        "        else:\n",
        "            memo[key] = max(recurse(idx1+1, idx2), \n",
        "                            recurse(idx1, idx2+1))\n",
        "        return memo[key]\n",
        "        \n",
        "    return recurse(0, 0)\n"
      ],
      "metadata": {
        "id": "zhMzUTKsJ4Er"
      },
      "execution_count": 7,
      "outputs": []
    }
  ]
}