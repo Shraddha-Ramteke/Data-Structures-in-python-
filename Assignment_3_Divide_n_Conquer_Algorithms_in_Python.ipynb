{
  "nbformat": 4,
  "nbformat_minor": 0,
  "metadata": {
    "colab": {
      "name": "Assignment 3 - Divide-n-Conquer Algorithms in Python.ipynb",
      "provenance": [],
      "authorship_tag": "ABX9TyMuhVue7qQe8Eq4C6Db/1vA",
      "include_colab_link": true
    },
    "kernelspec": {
      "name": "python3",
      "display_name": "Python 3"
    },
    "language_info": {
      "name": "python"
    }
  },
  "cells": [
    {
      "cell_type": "markdown",
      "metadata": {
        "id": "view-in-github",
        "colab_type": "text"
      },
      "source": [
        "<a href=\"https://colab.research.google.com/github/Shraddha-Ramteke/Data-Structures-in-python-/blob/main/Assignment_3_Divide_n_Conquer_Algorithms_in_Python.ipynb\" target=\"_parent\"><img src=\"https://colab.research.google.com/assets/colab-badge.svg\" alt=\"Open In Colab\"/></a>"
      ]
    },
    {
      "cell_type": "markdown",
      "source": [
        "# **Assignment 3 - Divide-n-Conquer Algorithms in Python**"
      ],
      "metadata": {
        "id": "R6M6SVuBDYe3"
      }
    },
    {
      "cell_type": "markdown",
      "source": [
        "# Problem Statement - Polynomial Multiplication\n",
        "Given two polynomials represented by two lists, write a function that efficiently multiplies given two polynomials. For example, the lists [2, 0, 5, 7] and [3, 4, 2] represent the polynomials \n",
        "2\n",
        "+\n",
        "5\n",
        "x\n",
        "2\n",
        "+\n",
        "7\n",
        "x\n",
        "3\n",
        " and \n",
        "3\n",
        "+\n",
        "4\n",
        "x\n",
        "+\n",
        "2\n",
        "x\n",
        "2\n",
        ".\n",
        "\n",
        "Their product is\n",
        "\n",
        "(\n",
        "2\n",
        "×\n",
        "3\n",
        ")\n",
        "+\n",
        "(\n",
        "2\n",
        "×\n",
        "4\n",
        "+\n",
        "0\n",
        "×\n",
        "3\n",
        ")\n",
        "x\n",
        "+\n",
        "(\n",
        "2\n",
        "×\n",
        "2\n",
        "+\n",
        "3\n",
        "×\n",
        "5\n",
        "+\n",
        "4\n",
        "×\n",
        "0\n",
        ")\n",
        "x\n",
        "2\n",
        "+\n",
        "(\n",
        "7\n",
        "×\n",
        "3\n",
        "+\n",
        "5\n",
        "×\n",
        "4\n",
        "+\n",
        "0\n",
        "×\n",
        "2\n",
        ")\n",
        "x\n",
        "3\n",
        "+\n",
        "(\n",
        "7\n",
        "×\n",
        "4\n",
        "+\n",
        "5\n",
        "×\n",
        "2\n",
        ")\n",
        "x\n",
        "4\n",
        "+\n",
        "(\n",
        "7\n",
        "×\n",
        "2\n",
        ")\n",
        "x\n",
        "5\n",
        "i.e.\n",
        "\n",
        "6\n",
        "+\n",
        "8\n",
        "x\n",
        "+\n",
        "19\n",
        "x\n",
        "2\n",
        "+\n",
        "41\n",
        "x\n",
        "3\n",
        "+\n",
        "38\n",
        "x\n",
        "4\n",
        "+\n",
        "14\n",
        "x\n",
        "5\n",
        "It can be represented by the list [6, 8, 19, 41, 38, 14]."
      ],
      "metadata": {
        "id": "dX_mTdFVDs8K"
      }
    },
    {
      "cell_type": "markdown",
      "source": [
        "# 1. State the problem clearly. Identify the input & output formats.\n",
        "While this problem is stated clearly enough, it's always useful to try and express in your own words, in a way that makes it most clear for you.\n",
        "\n",
        "Problem\n",
        "\n",
        "??? (express the problem clearly in our own words, and in abstract terms\n",
        "\n",
        "\n",
        "#Input\n",
        "\n",
        "1. poly1: list of numbers for polynomial 1\n",
        "2. poly2: list of numbers for polynomial 2\n",
        "#Output\n",
        "\n",
        "3. outcome from multiplying two lists\n"
      ],
      "metadata": {
        "id": "J6z-fPsQD18K"
      }
    },
    {
      "cell_type": "markdown",
      "source": [
        "# Come up with some example inputs & outputs. Try to cover all edge cases.\n",
        "Our function should be able to handle any set of valid inputs we pass into it. List a few scenarios here:\n",
        "\n",
        "1. ???\n",
        "2. ???\n",
        "3. ???\n",
        "4. ???\n",
        "5. ???\n",
        "(add more if required)\n",
        "\n",
        "Create a test case of each of the above scenarios. We'll express our test cases as dictionaries, to test them easily. Each dictionary will contain 2 keys: input (a dictionary itself containing one key for each argument to the function and output (the expected result from the function)."
      ],
      "metadata": {
        "id": "YwQjoT97Ew0b"
      }
    },
    {
      "cell_type": "code",
      "source": [
        "test0 = {\n",
        "    'input': {\n",
        "        'poly1': [2, 0, 5, 7],\n",
        "        'poly2': [3, 4, 2]\n",
        "    },\n",
        "    'output': [6, 8, 19, 41, 38, 14]\n",
        "}"
      ],
      "metadata": {
        "id": "7Mqz_q1kE57A"
      },
      "execution_count": 7,
      "outputs": []
    },
    {
      "cell_type": "code",
      "source": [
        "test1 = {\n",
        "    'input': {\n",
        "        'poly1': [2,4,0,0,5],\n",
        "        'poly2': [4,9,5,4]\n",
        "    },\n",
        "    'output': [8,34,46,28,36,45,25,20]\n",
        "}"
      ],
      "metadata": {
        "id": "2w0l_opAFYwu"
      },
      "execution_count": 12,
      "outputs": []
    },
    {
      "cell_type": "code",
      "source": [
        "def add(poly1, poly2):\n",
        "    \"\"\"Add two polynomials\"\"\"\n",
        "    result = [0] * max(len(poly1), len(poly2))\n",
        "    for i in range(len(result)):\n",
        "        if i < len(poly1):\n",
        "            result[i] += poly1[i]\n",
        "        if i < len(poly2):\n",
        "            result[i] += poly2[i]\n",
        "    return result\n",
        "    add([1, 2, 3, 4], [0, 4, 3])"
      ],
      "metadata": {
        "id": "KClUBb9iGGba"
      },
      "execution_count": 14,
      "outputs": []
    },
    {
      "cell_type": "code",
      "source": [
        "def split(poly1, poly2):\n",
        "    \"\"\"Split each polynomial into two smaller polynomials\"\"\"\n",
        "    mid = max(len(poly1), len(poly2)) // 2\n",
        "    return  (poly1[:mid], poly1[mid:]), (poly2[:mid], poly2[mid:])\n",
        "split([1, 2, 3, 4], [0, 4, 3, 6, 7, 8, 2])"
      ],
      "metadata": {
        "colab": {
          "base_uri": "https://localhost:8080/"
        },
        "id": "bE-MRfZyGXm-",
        "outputId": "9a2afac6-0e1a-48af-eff1-730bd7132840"
      },
      "execution_count": 15,
      "outputs": [
        {
          "output_type": "execute_result",
          "data": {
            "text/plain": [
              "(([1, 2, 3], [4]), ([0, 4, 3], [6, 7, 8, 2]))"
            ]
          },
          "metadata": {},
          "execution_count": 15
        }
      ]
    },
    {
      "cell_type": "code",
      "source": [
        "def increase_exponent(poly, n):\n",
        "    \"\"\"Multiply poly1 by x^n\"\"\"\n",
        "    return [0] * n + poly\n",
        "increase_exponent([1, 2, 3, 4], 3)"
      ],
      "metadata": {
        "colab": {
          "base_uri": "https://localhost:8080/"
        },
        "id": "0S5hetecGeXi",
        "outputId": "db84e288-bd8f-4323-b1eb-1633b01ba3bd"
      },
      "execution_count": 16,
      "outputs": [
        {
          "output_type": "execute_result",
          "data": {
            "text/plain": [
              "[0, 0, 0, 1, 2, 3, 4]"
            ]
          },
          "metadata": {},
          "execution_count": 16
        }
      ]
    }
  ]
}