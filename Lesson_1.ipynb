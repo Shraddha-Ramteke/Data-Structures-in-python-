{
  "nbformat": 4,
  "nbformat_minor": 0,
  "metadata": {
    "colab": {
      "name": "Lesson 1.ipynb",
      "provenance": [],
      "authorship_tag": "ABX9TyNgmNNLgJG18iLWUbIKGBmy",
      "include_colab_link": true
    },
    "kernelspec": {
      "name": "python3",
      "display_name": "Python 3"
    },
    "language_info": {
      "name": "python"
    }
  },
  "cells": [
    {
      "cell_type": "markdown",
      "metadata": {
        "id": "view-in-github",
        "colab_type": "text"
      },
      "source": [
        "<a href=\"https://colab.research.google.com/github/Shraddha-Ramteke/Data-Structures-in-python-/blob/main/Lesson_1.ipynb\" target=\"_parent\"><img src=\"https://colab.research.google.com/assets/colab-badge.svg\" alt=\"Open In Colab\"/></a>"
      ]
    },
    {
      "cell_type": "markdown",
      "source": [
        "# **Lesson 1 - Binary Search, Linked Lists and Complexity**\n"
      ],
      "metadata": {
        "id": "pG6EQWizlvuf"
      }
    },
    {
      "cell_type": "markdown",
      "source": [
        "# Notebooks used in this lesson:\n",
        "\n",
        "- Linear and Binary Search: https://jovian.ai/aakashns/python-binary-search\n",
        "- Problem Solving Template: https://jovian.ai/aakashns/python-problem-solving-template\n",
        "- Linked Lists in Python: https://jovian.ai/aakashns/python-classes-and-linked-lists\n"
      ],
      "metadata": {
        "id": "N203kWPpm5bw"
      }
    },
    {
      "cell_type": "code",
      "execution_count": 3,
      "metadata": {
        "colab": {
          "base_uri": "https://localhost:8080/"
        },
        "id": "2aFra9ckluxX",
        "outputId": "953d7cc5-132b-421f-df41-03733b8b8f21"
      },
      "outputs": [
        {
          "output_type": "execute_result",
          "data": {
            "text/plain": [
              "7.0"
            ]
          },
          "metadata": {},
          "execution_count": 3
        }
      ],
      "source": [
        "# Import a library module\n",
        "import math\n",
        "# Use a function from the library\n",
        "math.sqrt(49)"
      ]
    },
    {
      "cell_type": "markdown",
      "source": [
        "# Problem\n",
        "This course takes a coding-focused approach towards learning. In each notebook, we'll focus on solving one problem, and learn the techniques, algorithms, and data structures to devise an efficient solution. We will then generalize the technique and apply it to other problems.\n",
        "\n",
        "In this notebook, we focus on solving the following problem:"
      ],
      "metadata": {
        "id": "3QCHLUDJpD18"
      }
    },
    {
      "cell_type": "code",
      "source": [
        "# We need to write a program to find the position of a given number in a list of numbers arranged in decreasing order. We also need to minimize the number of times we access elements from the list.\n",
        "def locate_card(cards, query):\n",
        "    pass\n",
        "cards = [13, 11, 10, 7, 4, 3, 1, 0]\n",
        "query = 7\n",
        "output = 3\n",
        "result = locate_card(cards, query)\n",
        "print(result)"
      ],
      "metadata": {
        "colab": {
          "base_uri": "https://localhost:8080/"
        },
        "id": "FhP3dBrYvStD",
        "outputId": "0e9693b1-3cc4-44f7-8872-cf0230153327"
      },
      "execution_count": 5,
      "outputs": [
        {
          "output_type": "stream",
          "name": "stdout",
          "text": [
            "None\n"
          ]
        }
      ]
    },
    {
      "cell_type": "code",
      "source": [
        "# We'll represent our test cases as dictionaries to make it easier to test them once we write implement our function. For example, the above test case can be represented as follows:\n",
        "\n",
        "test = {\n",
        "    'input': { \n",
        "        'cards': [13, 11, 10, 7, 4, 3, 1, 0], \n",
        "        'query': 7\n",
        "    },\n",
        "    'output': 3\n",
        "}\n",
        "locate_card(**test['input']) == test['output']"
      ],
      "metadata": {
        "colab": {
          "base_uri": "https://localhost:8080/"
        },
        "id": "DsjLui83v6ls",
        "outputId": "82952d41-21e4-4f55-fe16-e0bafdff3d17"
      },
      "execution_count": 6,
      "outputs": [
        {
          "output_type": "execute_result",
          "data": {
            "text/plain": [
              "False"
            ]
          },
          "metadata": {},
          "execution_count": 6
        }
      ]
    },
    {
      "cell_type": "markdown",
      "source": [
        "# Our function should be able to handle any set of valid inputs we pass into it. Here's a list of some possible variations we might encounter:\n",
        "\n",
        "- The number query occurs somewhere in the middle of the list cards.\n",
        "- query is the first element in cards.\n",
        "- query is the last element in cards.\n",
        "- The list cards contains just one element, which is query.\n",
        "- The list cards does not contain number query.\n",
        "- The list cards is empty.\n",
        "- The list cards contains repeating numbers.\n",
        "- The number query occurs at more than one position in cards.\n",
        "(can you think of any more variations?)\n",
        "# Edge Cases: It's likely that you didn't think of all of the above cases when you read the problem for the first time. Some of these (like the empty array or query not occurring in cards) are called edge cases, as they represent rare or extreme examples.\n",
        "\n"
      ],
      "metadata": {
        "id": "PiVV8HbhwXuj"
      }
    },
    {
      "cell_type": "code",
      "source": [
        "# While edge cases may not occur frequently, your programs should be able to handle all edge cases, otherwise they may fail in unexpected ways. Let's create some more test cases for the variations listed above. We'll store all our test cases in an list for easier testing.\n",
        "\n",
        "tests = []\n",
        "# query occurs in the middle\n",
        "tests.append(test)\n",
        "\n",
        "tests.append({\n",
        "    'input': {\n",
        "        'cards': [13, 11, 10, 7, 4, 3, 1, 0],\n",
        "        'query': 1\n",
        "    },\n",
        "    'output': 6\n",
        "})\n",
        "# query is the first element\n",
        "tests.append({\n",
        "    'input': {\n",
        "        'cards': [4, 2, 1, -1],\n",
        "        'query': 4\n",
        "    },\n",
        "    'output': 0\n",
        "})\n",
        "# query is the last element\n",
        "tests.append({\n",
        "    'input': {\n",
        "        'cards': [3, -1, -9, -127],\n",
        "        'query': -127\n",
        "    },\n",
        "    'output': 3\n",
        "})\n",
        "# cards contains just one element, query\n",
        "tests.append({\n",
        "    'input': {\n",
        "        'cards': [6],\n",
        "        'query': 6\n",
        "    },\n",
        "    'output': 0 \n",
        "})    \n"
      ],
      "metadata": {
        "id": "pvsLCBOew4So"
      },
      "execution_count": 7,
      "outputs": []
    },
    {
      "cell_type": "markdown",
      "source": [
        "# The problem statement does not specify what to do if the list cards does not contain the number query."
      ],
      "metadata": {
        "id": "a7_Y7dL1xind"
      }
    },
    {
      "cell_type": "code",
      "source": [
        "# We will assume that our function will return -1 in case cards does not contain query.\n",
        "\n",
        "# cards does not contain query \n",
        "tests.append({\n",
        "    'input': {\n",
        "        'cards': [9, 7, 5, 2, -9],\n",
        "        'query': 4\n",
        "    },\n",
        "    'output': -1\n",
        "})\n",
        "# cards is empty\n",
        "tests.append({\n",
        "    'input': {\n",
        "        'cards': [],\n",
        "        'query': 7\n",
        "    },\n",
        "    'output': -1\n",
        "})\n",
        "# numbers can repeat in cards\n",
        "tests.append({\n",
        "    'input': {\n",
        "        'cards': [8, 8, 6, 6, 6, 6, 6, 3, 2, 2, 2, 0, 0, 0],\n",
        "        'query': 3\n",
        "    },\n",
        "    'output': 7\n",
        "})\n",
        "# query occurs multiple times                       # In the case where query occurs multiple times in cards, we'll expect our function to return the first occurrence of query.\n",
        "                                                    # While it may also be acceptable for the function to return any position where query occurs within the list, it would be slightly more difficult to test the function, as the output is non-deterministic.\n",
        "\n",
        "\n",
        "tests.append({\n",
        "    'input': {\n",
        "        'cards': [8, 8, 6, 6, 6, 6, 6, 6, 3, 2, 2, 2, 0, 0, 0],\n",
        "        'query': 6\n",
        "    },\n",
        "    'output': 2\n",
        "})\n",
        "tests\n"
      ],
      "metadata": {
        "colab": {
          "base_uri": "https://localhost:8080/"
        },
        "id": "5jC0m4xBxloR",
        "outputId": "ab43bddd-287e-42af-9e44-48029c2a8a93"
      },
      "execution_count": 9,
      "outputs": [
        {
          "output_type": "execute_result",
          "data": {
            "text/plain": [
              "[{'input': {'cards': [13, 11, 10, 7, 4, 3, 1, 0], 'query': 7}, 'output': 3},\n",
              " {'input': {'cards': [13, 11, 10, 7, 4, 3, 1, 0], 'query': 1}, 'output': 6},\n",
              " {'input': {'cards': [4, 2, 1, -1], 'query': 4}, 'output': 0},\n",
              " {'input': {'cards': [3, -1, -9, -127], 'query': -127}, 'output': 3},\n",
              " {'input': {'cards': [6], 'query': 6}, 'output': 0},\n",
              " {'input': {'cards': [9, 7, 5, 2, -9], 'query': 4}, 'output': -1},\n",
              " {'input': {'cards': [], 'query': 7}, 'output': -1},\n",
              " {'input': {'cards': [8, 8, 6, 6, 6, 6, 6, 3, 2, 2, 2, 0, 0, 0], 'query': 3},\n",
              "  'output': 7},\n",
              " {'input': {'cards': [8, 8, 6, 6, 6, 6, 6, 6, 3, 2, 2, 2, 0, 0, 0],\n",
              "   'query': 6},\n",
              "  'output': 2},\n",
              " {'input': {'cards': [9, 7, 5, 2, -9], 'query': 4}, 'output': -1},\n",
              " {'input': {'cards': [], 'query': 7}, 'output': -1},\n",
              " {'input': {'cards': [8, 8, 6, 6, 6, 6, 6, 3, 2, 2, 2, 0, 0, 0], 'query': 3},\n",
              "  'output': 7},\n",
              " {'input': {'cards': [8, 8, 6, 6, 6, 6, 6, 6, 3, 2, 2, 2, 0, 0, 0],\n",
              "   'query': 6},\n",
              "  'output': 2}]"
            ]
          },
          "metadata": {},
          "execution_count": 9
        }
      ]
    },
    {
      "cell_type": "code",
      "source": [
        "def locate_card(cards, query):\n",
        "    # Create a variable position with the value 0\n",
        "    position = 0\n",
        "    \n",
        "    # Set up a loop for repetition\n",
        "    while True:\n",
        "        \n",
        "        # Check if element at the current position matche the query\n",
        "        if cards[position] == query:\n",
        "            \n",
        "            # Answer found! Return and exit..\n",
        "            return position\n",
        "        \n",
        "        # Increment the position\n",
        "        position += 1\n",
        "        \n",
        "        # Check if we have reached the end of the array\n",
        "        if position == len(cards):\n",
        "          # Number not found, return -1\n",
        "            return -1\n",
        "test                                          # Let's test out the function with the first test case"
      ],
      "metadata": {
        "colab": {
          "base_uri": "https://localhost:8080/"
        },
        "id": "p8RzlEwpzcnQ",
        "outputId": "a62848c2-a83c-4855-f95f-1aeb9ae5da69"
      },
      "execution_count": 11,
      "outputs": [
        {
          "output_type": "execute_result",
          "data": {
            "text/plain": [
              "{'input': {'cards': [13, 11, 10, 7, 4, 3, 1, 0], 'query': 7}, 'output': 3}"
            ]
          },
          "metadata": {},
          "execution_count": 11
        }
      ]
    },
    {
      "cell_type": "code",
      "source": [
        "result = locate_card(test['input']['cards'], test['input']['query'])\n",
        "result"
      ],
      "metadata": {
        "colab": {
          "base_uri": "https://localhost:8080/"
        },
        "id": "t-8lz308zwnJ",
        "outputId": "a0d408a8-501c-47c5-8b3d-b1afd224484b"
      },
      "execution_count": 12,
      "outputs": [
        {
          "output_type": "execute_result",
          "data": {
            "text/plain": [
              "3"
            ]
          },
          "metadata": {},
          "execution_count": 12
        }
      ]
    },
    {
      "cell_type": "markdown",
      "source": [
        "# **Complexity and Big O Notation**"
      ],
      "metadata": {
        "id": "ofK0nlgA0Guy"
      }
    },
    {
      "cell_type": "markdown",
      "source": [
        "# In the case of linear search:\n",
        "\n",
        "- The time complexity of the algorithm is cN for some fixed constant c that depends on the number of operations we perform in each iteration and the time taken to execute a statement. Time complexity is sometimes also called the running time of the algorithm.\n",
        "\n",
        "- The space complexity is some constant c' (independent of N), since we just need a single variable position to iterate through the array, and it occupies a constant space in the computer's memory (RAM)."
      ],
      "metadata": {
        "id": "NHaBhyD20Rvu"
      }
    },
    {
      "cell_type": "markdown",
      "source": [
        "# **Big O Notation:** Worst-case complexity is often expressed using the Big O notation. In the Big O, we drop fixed constants and lower powers of variables to capture the trend of relationship between the size of the input and the complexity of the algorithm i.e. if the complexity of the algorithm is cN^3 + dN^2 + eN + f, in the Big O notation it is expressed as O(N^3)\n",
        "\n",
        "# Thus, the time complexity of linear search is O(N) and its space complexity is O(1).\n",
        "\n",
        "\n"
      ],
      "metadata": {
        "id": "xQN3qGo90bY2"
      }
    },
    {
      "cell_type": "code",
      "source": [
        "# Implement the solution and test it using example inputs. Fix bugs, if any.\n",
        "# Here's an implementation of binary search for solving our problem. We also print the relevant variables in each iteration of the while loop.\n",
        "def locate_card(cards, query):\n",
        "    lo, hi = 0, len(cards) - 1\n",
        "    \n",
        "    while lo <= hi:\n",
        "        mid = (lo + hi) // 2\n",
        "        mid_number = cards[mid]\n",
        "        \n",
        "        print(\"lo:\", lo, \", hi:\", hi, \", mid:\", mid, \", mid_number:\", mid_number)\n",
        "        \n",
        "        if mid_number == query:\n",
        "            return mid\n",
        "        elif mid_number < query:\n",
        "            hi = mid - 1  \n",
        "        elif mid_number > query:\n",
        "            lo = mid + 1\n",
        "    \n",
        "    return -1\n",
        "test             #Let's test it out using the test cases.\n"
      ],
      "metadata": {
        "colab": {
          "base_uri": "https://localhost:8080/"
        },
        "id": "bo2yhlBoz1SQ",
        "outputId": "93309553-5052-4e21-91c5-ee29539260f2"
      },
      "execution_count": 15,
      "outputs": [
        {
          "output_type": "execute_result",
          "data": {
            "text/plain": [
              "{'input': {'cards': [13, 11, 10, 7, 4, 3, 1, 0], 'query': 7}, 'output': 3}"
            ]
          },
          "metadata": {},
          "execution_count": 15
        }
      ]
    },
    {
      "cell_type": "markdown",
      "source": [
        "# **Binary Search vs. Linear Search**"
      ],
      "metadata": {
        "id": "3FYONdkF1fun"
      }
    },
    {
      "cell_type": "code",
      "source": [
        "def locate_card_linear(cards, query):\n",
        "    position = 0\n",
        "    while position < len(cards):\n",
        "        if cards[position] == query:\n",
        "            return position\n",
        "        position += 1\n",
        "    return -1\n",
        "large_test = {\n",
        "    'input': {\n",
        "        'cards': list(range(10000000, 0, -1)),\n",
        "        'query': 2\n",
        "    },\n",
        "    'output': 9999998\n",
        "    \n",
        "} \n",
        "result = test\n",
        "\n",
        "print(result)\n"
      ],
      "metadata": {
        "colab": {
          "base_uri": "https://localhost:8080/"
        },
        "id": "i2S09H-a1k5R",
        "outputId": "b361f34d-f9c7-48e5-e8b8-db1d27b0cc0e"
      },
      "execution_count": 20,
      "outputs": [
        {
          "output_type": "stream",
          "name": "stdout",
          "text": [
            "{'input': {'cards': [13, 11, 10, 7, 4, 3, 1, 0], 'query': 7}, 'output': 3}\n"
          ]
        }
      ]
    },
    {
      "cell_type": "markdown",
      "source": [
        "# Generic Binary Search\n",
        "Here is the general strategy behind binary search, which is applicable to a variety of problems:\n",
        "\n",
        "- Come up with a condition to determine whether the answer lies before, after or at a given position\n",
        "- Retrieve the midpoint and the middle element of the list.\n",
        "- If it is the answer, return the middle position as the answer.\n",
        "- If answer lies before it, repeat the search with the first half of the list\n",
        "- If the answer lies after it, repeat the search with the second half of the list.\n",
        "Here is the generic algorithm for binary search, implemented in Python:"
      ],
      "metadata": {
        "id": "okswpo5s2R9a"
      }
    },
    {
      "cell_type": "code",
      "source": [
        "def binary_search(lo, hi, condition):\n",
        "    \"\"\"TODO - add docs\"\"\"\n",
        "    while lo <= hi:\n",
        "        mid = (lo + hi) // 2\n",
        "        result = condition(mid)\n",
        "        if result == 'found':\n",
        "            return mid\n",
        "        elif result == 'left':\n",
        "            hi = mid - 1\n",
        "        else:\n",
        "            lo = mid + 1\n",
        "    return -1\n",
        "test"
      ],
      "metadata": {
        "colab": {
          "base_uri": "https://localhost:8080/"
        },
        "id": "hsPLJcZj2exy",
        "outputId": "bb0c58fd-5a06-4f6f-e7b2-9a6d270587e2"
      },
      "execution_count": 21,
      "outputs": [
        {
          "output_type": "execute_result",
          "data": {
            "text/plain": [
              "{'input': {'cards': [13, 11, 10, 7, 4, 3, 1, 0], 'query': 7}, 'output': 3}"
            ]
          },
          "metadata": {},
          "execution_count": 21
        }
      ]
    },
    {
      "cell_type": "markdown",
      "source": [
        "# The worst-case complexity or running time of binary search is O(log N), provided the complexity of the condition used to determine whether the answer lies before, after or at a given position is O(1).\n",
        "\n",
        "Note that binary_search accepts a function condition as an argument. Python allows passing functions as arguments to other functions, unlike C++ and Java.\n",
        "\n",
        "We can now rewrite the locate_card function more succinctly using the binary_search function."
      ],
      "metadata": {
        "id": "VF12Tygx2ugE"
      }
    },
    {
      "cell_type": "code",
      "source": [
        "def locate_card(cards, query):\n",
        "    \n",
        "    def condition(mid):\n",
        "        if cards[mid] == query:\n",
        "            if mid > 0 and cards[mid-1] == query:\n",
        "                return 'left'\n",
        "            else:\n",
        "                return 'found'\n",
        "        elif cards[mid] < query:\n",
        "            return 'left'\n",
        "        else:\n",
        "            return 'right'\n",
        "    \n",
        "    return binary_search(0, len(cards) - 1, condition)\n",
        "test    "
      ],
      "metadata": {
        "colab": {
          "base_uri": "https://localhost:8080/"
        },
        "id": "LbFW6Eve22Dh",
        "outputId": "3787f7b6-174a-4e28-ac22-2d8eee4cc1a1"
      },
      "execution_count": 24,
      "outputs": [
        {
          "output_type": "execute_result",
          "data": {
            "text/plain": [
              "{'input': {'cards': [13, 11, 10, 7, 4, 3, 1, 0], 'query': 7}, 'output': 3}"
            ]
          },
          "metadata": {},
          "execution_count": 24
        }
      ]
    },
    {
      "cell_type": "markdown",
      "source": [
        "# Question: Given an array of integers nums sorted in ascending order, find the starting and ending position of a given number."
      ],
      "metadata": {
        "id": "KHMcLnPq3MK5"
      }
    },
    {
      "cell_type": "code",
      "source": [
        "def first_position(nums, target):\n",
        "    def condition(mid):\n",
        "        if nums[mid] == target:\n",
        "            if mid > 0 and nums[mid-1] == target:\n",
        "                return 'left'\n",
        "            return 'found'\n",
        "        elif nums[mid] < target:\n",
        "            return 'right'\n",
        "        else:\n",
        "            return 'left'\n",
        "    return binary_search(0, len(nums)-1, condition)\n",
        "\n",
        "def last_position(nums, target):\n",
        "    def condition(mid):\n",
        "        if nums[mid] == target:\n",
        "            if mid < len(nums)-1 and nums[mid+1] == target:\n",
        "                return 'right'\n",
        "            return 'found'\n",
        "        elif nums[mid] < target:\n",
        "            return 'right'\n",
        "        else:\n",
        "            return 'left'\n",
        "    return binary_search(0, len(nums)-1, condition)\n",
        "\n",
        "def first_and_last_position(nums, target):\n",
        "    return first_position(nums, target), last_position(nums, target)\n",
        "test    "
      ],
      "metadata": {
        "colab": {
          "base_uri": "https://localhost:8080/"
        },
        "id": "u1yzAws_3VBk",
        "outputId": "f8c8ffd9-b8e7-4fd6-c91d-0a74de31f5c3"
      },
      "execution_count": 26,
      "outputs": [
        {
          "output_type": "execute_result",
          "data": {
            "text/plain": [
              "{'input': {'cards': [13, 11, 10, 7, 4, 3, 1, 0], 'query': 7}, 'output': 3}"
            ]
          },
          "metadata": {},
          "execution_count": 26
        }
      ]
    }
  ]
}