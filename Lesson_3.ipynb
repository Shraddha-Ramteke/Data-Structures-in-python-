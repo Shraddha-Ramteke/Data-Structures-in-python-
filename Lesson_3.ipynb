{
  "nbformat": 4,
  "nbformat_minor": 0,
  "metadata": {
    "colab": {
      "name": "Lesson 3.ipynb",
      "provenance": [],
      "authorship_tag": "ABX9TyPdSX49nYC1Kt3s9QkBJaI/",
      "include_colab_link": true
    },
    "kernelspec": {
      "name": "python3",
      "display_name": "Python 3"
    },
    "language_info": {
      "name": "python"
    }
  },
  "cells": [
    {
      "cell_type": "markdown",
      "metadata": {
        "id": "view-in-github",
        "colab_type": "text"
      },
      "source": [
        "<a href=\"https://colab.research.google.com/github/Shraddha-Ramteke/Data-Structures-in-python-/blob/main/Lesson_3.ipynb\" target=\"_parent\"><img src=\"https://colab.research.google.com/assets/colab-badge.svg\" alt=\"Open In Colab\"/></a>"
      ]
    },
    {
      "cell_type": "markdown",
      "source": [
        "# **Lesson 3 - Sorting Algorithms and Divide & Conquer**"
      ],
      "metadata": {
        "id": "sZ7NWlSf8rug"
      }
    },
    {
      "cell_type": "markdown",
      "source": [
        "# Analyze the algorithm's complexity and identify inefficiencies"
      ],
      "metadata": {
        "id": "MD3Y4ABI-QMW"
      }
    },
    {
      "cell_type": "markdown",
      "source": [
        "The core operations in bubble sort are \"compare\" and \"swap\". To analyze the time complexity, we can simply count the total number of comparisons being made, since the total number of swaps will be less than or equal to the total number of comparisons (can you see why?).\n",
        "\n",
        "for _ in range(len(nums) - 1):\n",
        "    for i in range(len(nums) - 1):\n",
        "        if nums[i] > nums[i+1]:\n",
        "            nums[i], nums[i+1] = nums[i+1], nums[i]\n",
        "There are two loops, each of length n-1, where n is the number of elements in nums. So the total number of comparisons is \n",
        "(\n",
        "n\n",
        "−\n",
        "1\n",
        ")\n",
        "∗\n",
        "(\n",
        "n\n",
        "−\n",
        "1\n",
        ")\n",
        " i.e. \n",
        "(\n",
        "n\n",
        "−\n",
        "1\n",
        ")\n",
        "2\n",
        " i.e. \n",
        "n\n",
        "2\n",
        "−\n",
        "2\n",
        "n\n",
        "+\n",
        "1\n",
        ".\n",
        "\n",
        "Expressing this in the Big O notation, we can conclude that the time complexity of bubble sort is \n",
        "O\n",
        "(\n",
        "n\n",
        "2\n",
        ")\n",
        " (also known as quadratic complexity).\n",
        "\n",
        "Exercise: Verify that the bubble sort requires \n",
        "O\n",
        "(\n",
        "1\n",
        ")\n",
        " additional space.\n",
        "\n",
        "The space complexity of bubble sort is \n",
        "O\n",
        "(\n",
        "n\n",
        ")\n",
        ", even thought it requires only constant/zero additional space, because the space required to store the inputs is also considered while calculating space complexity.\n",
        "\n",
        "As we saw from the last test, a list of 10,000 numbers takes about 12 seconds to be sorted using bubble sort. A list of ten times the size will 100 times longer i.e. about 20 minutes to be sorted, which is quite inefficient. A list of a million elements would take close to 2 days to be sorted.\n",
        "\n",
        "The inefficiency in bubble sort comes from the fact that we're shifting elements by at most one position at a time."
      ],
      "metadata": {
        "id": "O_6XC4KA-VlU"
      }
    },
    {
      "cell_type": "markdown",
      "source": [
        "# Insertion Sort\n",
        "Before we look at explore more efficient sorting techniques, here's another simple sorting technique called insertion sort, where we keep the initial portion of the array sorted and insert the remaining elements one by one at the right position."
      ],
      "metadata": {
        "id": "O-E0kZkx-af8"
      }
    },
    {
      "cell_type": "code",
      "execution_count": 3,
      "metadata": {
        "id": "YrhiPR9F8pF-"
      },
      "outputs": [],
      "source": [
        "def insertion_sort(nums):\n",
        "    nums = list(nums)\n",
        "    for i in range(len(nums)):\n",
        "        cur = nums.pop(i)\n",
        "        j = i-1\n",
        "        while j >=0 and nums[j] > cur:\n",
        "            j -= 1\n",
        "        nums.insert(j+1, cur)\n",
        "    return nums            \n",
        "\n"
      ]
    },
    {
      "cell_type": "markdown",
      "source": [
        "# Implement the solution and test it using example inputs"
      ],
      "metadata": {
        "id": "fJ-_kOfT-4Ko"
      }
    },
    {
      "cell_type": "markdown",
      "source": [
        "Let's implement the merge sort algorithm assuming we already have a helper function called merge for merging two sorted arrays"
      ],
      "metadata": {
        "id": "65Bt7G9K_EzS"
      }
    },
    {
      "cell_type": "code",
      "source": [
        "def merge_sort(nums):\n",
        "    # Terminating condition (list of 0 or 1 elements)\n",
        "    if len(nums) <= 1:\n",
        "        return nums\n",
        "    \n",
        "    # Get the midpoint\n",
        "    mid = len(nums) // 2\n",
        "    \n",
        "    # Split the list into two halves\n",
        "    left = nums[:mid]\n",
        "    right = nums[mid:]\n",
        "    \n",
        "    # Solve the problem for each half recursively\n",
        "    left_sorted, right_sorted = merge_sort(left), merge_sort(right)\n",
        "    \n",
        "    # Combine the results of the two halves\n",
        "    sorted_nums =  merge(left_sorted, right_sorted)\n",
        "    \n",
        "    return sorted_nums"
      ],
      "metadata": {
        "id": "IWKUwllC_H7Q"
      },
      "execution_count": 4,
      "outputs": []
    },
    {
      "cell_type": "markdown",
      "source": [
        "Two merge two sorted arrays, we can repeatedly compare the two least elements of each array, and copy over the smaller one into a new array."
      ],
      "metadata": {
        "id": "CMFTqWcI_Nvq"
      }
    },
    {
      "cell_type": "code",
      "source": [
        "def merge(nums1, nums2):    \n",
        "    # List to store the results \n",
        "    merged = []\n",
        "    \n",
        "    # Indices for iteration\n",
        "    i, j = 0, 0\n",
        "    \n",
        "    # Loop over the two lists\n",
        "    while i < len(nums1) and j < len(nums2):        \n",
        "        \n",
        "        # Include the smaller element in the result and move to next element\n",
        "        if nums1[i] <= nums2[j]:\n",
        "            merged.append(nums1[i])\n",
        "            i += 1 \n",
        "        else:\n",
        "            merged.append(nums2[j])\n",
        "            j += 1\n",
        "    \n",
        "    # Get the remaining parts\n",
        "    nums1_tail = nums1[i:]\n",
        "    nums2_tail = nums2[j:]\n",
        "    \n",
        "    # Return the final merged array\n",
        "    return merged + nums1_tail + nums2_tail"
      ],
      "metadata": {
        "id": "xvV6l7WM_Sua"
      },
      "execution_count": 5,
      "outputs": []
    },
    {
      "cell_type": "markdown",
      "source": [
        "Let's test the merge operation, before we test merge sort."
      ],
      "metadata": {
        "id": "HzpOcVSC_YBq"
      }
    },
    {
      "cell_type": "code",
      "source": [
        "merge([1, 4, 7, 9, 11], [-1, 0, 2, 3, 8, 12])\n"
      ],
      "metadata": {
        "colab": {
          "base_uri": "https://localhost:8080/"
        },
        "id": "9LyIK5qI_bL0",
        "outputId": "f4359358-7a4a-48ee-b9d4-ae71eceb39c3"
      },
      "execution_count": 6,
      "outputs": [
        {
          "output_type": "execute_result",
          "data": {
            "text/plain": [
              "[-1, 0, 1, 2, 3, 4, 7, 8, 9, 11, 12]"
            ]
          },
          "metadata": {},
          "execution_count": 6
        }
      ]
    },
    {
      "cell_type": "markdown",
      "source": [
        "It seems to work as expected. We can now test the merge_sort function.\n",
        "\n"
      ],
      "metadata": {
        "id": "WQDlXFWe_fM_"
      }
    },
    {
      "cell_type": "markdown",
      "source": [
        "# Analyze the algorithm's complexity and identify inefficiencies"
      ],
      "metadata": {
        "id": "UOxWNYw-_359"
      }
    },
    {
      "cell_type": "markdown",
      "source": [
        "Analyzing the complexity of recursive algorithms can be tricky. It helps to track and follow the chain of recursive calls. We'll add some print statements to our merge_sort and merge_functions to display the tree of recursive function calls.\n",
        "\n"
      ],
      "metadata": {
        "id": "j_2GtVG7_8JR"
      }
    },
    {
      "cell_type": "code",
      "source": [
        "def merge(nums1, nums2, depth=0):\n",
        "    print('  '*depth, 'merge:', nums1, nums2)\n",
        "    i, j, merged = 0, 0, []\n",
        "    while i < len(nums1) and j < len(nums2):\n",
        "        if nums1[i] <= nums2[j]:\n",
        "            merged.append(nums1[i])\n",
        "            i += 1\n",
        "        else:\n",
        "            merged.append(nums2[j])\n",
        "            j += 1\n",
        "    return merged + nums1[i:] + nums2[j:]\n",
        "        \n",
        "def merge_sort(nums, depth=0):\n",
        "    print('  '*depth, 'merge_sort:', nums)\n",
        "    if len(nums) < 2: \n",
        "        return nums\n",
        "    mid = len(nums) // 2\n",
        "    return merge(merge_sort(nums[:mid], depth+1), \n",
        "                 merge_sort(nums[mid:], depth+1), \n",
        "                 depth+1)"
      ],
      "metadata": {
        "id": "lWHvbIFEABag"
      },
      "execution_count": 9,
      "outputs": []
    },
    {
      "cell_type": "code",
      "source": [
        "merge_sort([5, -12, 2, 6, 1, 23, 7, 7, -12])"
      ],
      "metadata": {
        "colab": {
          "base_uri": "https://localhost:8080/"
        },
        "id": "KhkyUzsFAGkK",
        "outputId": "338154b3-2b1c-4625-cf27-8e301d49bce7"
      },
      "execution_count": 10,
      "outputs": [
        {
          "output_type": "stream",
          "name": "stdout",
          "text": [
            " merge_sort: [5, -12, 2, 6, 1, 23, 7, 7, -12]\n",
            "   merge_sort: [5, -12, 2, 6]\n",
            "     merge_sort: [5, -12]\n",
            "       merge_sort: [5]\n",
            "       merge_sort: [-12]\n",
            "       merge: [5] [-12]\n",
            "     merge_sort: [2, 6]\n",
            "       merge_sort: [2]\n",
            "       merge_sort: [6]\n",
            "       merge: [2] [6]\n",
            "     merge: [-12, 5] [2, 6]\n",
            "   merge_sort: [1, 23, 7, 7, -12]\n",
            "     merge_sort: [1, 23]\n",
            "       merge_sort: [1]\n",
            "       merge_sort: [23]\n",
            "       merge: [1] [23]\n",
            "     merge_sort: [7, 7, -12]\n",
            "       merge_sort: [7]\n",
            "       merge_sort: [7, -12]\n",
            "         merge_sort: [7]\n",
            "         merge_sort: [-12]\n",
            "         merge: [7] [-12]\n",
            "       merge: [7] [-12, 7]\n",
            "     merge: [1, 23] [-12, 7, 7]\n",
            "   merge: [-12, 2, 5, 6] [-12, 1, 7, 7, 23]\n"
          ]
        },
        {
          "output_type": "execute_result",
          "data": {
            "text/plain": [
              "[-12, -12, 1, 2, 5, 6, 7, 7, 23]"
            ]
          },
          "metadata": {},
          "execution_count": 10
        }
      ]
    }
  ]
}